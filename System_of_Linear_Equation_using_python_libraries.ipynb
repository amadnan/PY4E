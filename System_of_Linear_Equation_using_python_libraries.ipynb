{
 "cells": [
  {
   "cell_type": "markdown",
   "id": "7360d21e",
   "metadata": {},
   "source": [
    " # Use numpy library functions to solve the following equations.\n",
    " <br> $4x_1+3x_2−5x_3=2$\n",
    " <br> $−2x_1−4x_2+5x_3=5$\n",
    " <br> $8x_1+8x_2=−3$"
   ]
  },
  {
   "cell_type": "markdown",
   "id": "5c2f8e4c",
   "metadata": {},
   "source": [
    "# Using \"numpy.linalg.solve\" to solve the following equations."
   ]
  },
  {
   "cell_type": "code",
   "execution_count": 1,
   "id": "9f9cdf0d",
   "metadata": {},
   "outputs": [
    {
     "name": "stdout",
     "output_type": "stream",
     "text": [
      "[ 2.20833333 -2.58333333 -0.18333333]\n"
     ]
    }
   ],
   "source": [
    "import numpy as np\n",
    "\n",
    "A = np.array([[4, 3, -5], \n",
    "              [-2, -4, 5], \n",
    "              [8, 8, 0]])\n",
    "y = np.array([2, 5, -3])\n",
    "\n",
    "x = np.linalg.solve(A, y)\n",
    "print(x)"
   ]
  },
  {
   "cell_type": "markdown",
   "id": "7294ce33",
   "metadata": {},
   "source": [
    "# Solving the above equations using the matrix inversion approach"
   ]
  },
  {
   "cell_type": "code",
   "execution_count": 2,
   "id": "dbdcefe1",
   "metadata": {},
   "outputs": [
    {
     "name": "stdout",
     "output_type": "stream",
     "text": [
      "[ 2.20833333 -2.58333333 -0.18333333]\n"
     ]
    }
   ],
   "source": [
    "A_inv = np.linalg.inv(A)\n",
    "\n",
    "x = np.dot(A_inv, y)\n",
    "print(x)"
   ]
  },
  {
   "cell_type": "markdown",
   "id": "43366b2c",
   "metadata": {},
   "source": [
    "# Getting the L and U for the above matrix A"
   ]
  },
  {
   "cell_type": "code",
   "execution_count": 3,
   "id": "0546ab2f",
   "metadata": {},
   "outputs": [
    {
     "name": "stdout",
     "output_type": "stream",
     "text": [
      "P:\n",
      " [[0. 0. 1.]\n",
      " [0. 1. 0.]\n",
      " [1. 0. 0.]]\n",
      "L:\n",
      " [[ 1.    0.    0.  ]\n",
      " [-0.25  1.    0.  ]\n",
      " [ 0.5   0.5   1.  ]]\n",
      "U:\n",
      " [[ 8.   8.   0. ]\n",
      " [ 0.  -2.   5. ]\n",
      " [ 0.   0.  -7.5]]\n",
      "LU:\n",
      " [[ 8.  8.  0.]\n",
      " [-2. -4.  5.]\n",
      " [ 4.  3. -5.]]\n"
     ]
    }
   ],
   "source": [
    "from scipy.linalg import lu\n",
    "\n",
    "P, L, U = lu(A)\n",
    "print('P:\\n', P)\n",
    "print('L:\\n', L)\n",
    "print('U:\\n', U)\n",
    "print('LU:\\n',np.dot(L, U))"
   ]
  },
  {
   "cell_type": "code",
   "execution_count": null,
   "id": "f0d74dc7",
   "metadata": {},
   "outputs": [],
   "source": []
  }
 ],
 "metadata": {
  "kernelspec": {
   "display_name": "Python 3",
   "language": "python",
   "name": "python3"
  },
  "language_info": {
   "codemirror_mode": {
    "name": "ipython",
    "version": 3
   },
   "file_extension": ".py",
   "mimetype": "text/x-python",
   "name": "python",
   "nbconvert_exporter": "python",
   "pygments_lexer": "ipython3",
   "version": "3.8.8"
  }
 },
 "nbformat": 4,
 "nbformat_minor": 5
}
